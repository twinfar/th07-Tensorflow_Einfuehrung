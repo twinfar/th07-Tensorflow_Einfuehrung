{
 "cells": [
  {
   "cell_type": "markdown",
   "metadata": {},
   "source": [
    "# Übung zu TensorFlow Einführung"
   ]
  },
  {
   "cell_type": "markdown",
   "metadata": {},
   "source": [
    "## Aufgabe 1: Theorie"
   ]
  },
  {
   "cell_type": "markdown",
   "metadata": {},
   "source": [
    "#### a) Was zeichnet ein `Feedforward Netz` aus?"
   ]
  },
  {
   "cell_type": "markdown",
   "metadata": {},
   "source": [
    "#### b) Was ist der Unterschied zwischen `Platzhaltern` und `Variablen` in TensorFlow?"
   ]
  },
  {
   "cell_type": "markdown",
   "metadata": {},
   "source": [
    "#### c) Wieso sind die `Gewichtungsmatrizen` und `Biasvektoren` so wichtig?"
   ]
  },
  {
   "cell_type": "markdown",
   "metadata": {},
   "source": [
    "#### d) Was machen `Aktivierungsfunktionen`?"
   ]
  },
  {
   "cell_type": "markdown",
   "metadata": {},
   "source": [
    "#### e) Wofür wird die `Kostenfunktion` verwendet?"
   ]
  },
  {
   "cell_type": "markdown",
   "metadata": {},
   "source": [
    "#### f) Welche Aufgabe hat der `Optimierer`?"
   ]
  },
  {
   "cell_type": "markdown",
   "metadata": {},
   "source": [
    "## Aufgabe 2: Praxis"
   ]
  },
  {
   "cell_type": "markdown",
   "metadata": {},
   "source": [
    "#### a) Installieren und importieren Sie TensorFlow und testen Sie die Ausgabe `'Hallo, Welt!'`."
   ]
  },
  {
   "cell_type": "code",
   "execution_count": null,
   "metadata": {},
   "outputs": [],
   "source": []
  },
  {
   "cell_type": "markdown",
   "metadata": {},
   "source": [
    "#### b) Lesen Sie den MNIST-Datensatz extern ein und benutzen Sie die eingebaute Hilfsfunktion, um den Datensatz bei Bedarf zu holen."
   ]
  },
  {
   "cell_type": "code",
   "execution_count": null,
   "metadata": {},
   "outputs": [],
   "source": []
  },
  {
   "cell_type": "markdown",
   "metadata": {},
   "source": [
    "#### c) Versuchen Sie mit Tensorflow eine Genauigkeit von mindestens 96% zu erreichen. \n",
    "> Hinweis:\n",
    "> - Sie können die Anzahl der Neuronen verändern.\n",
    "> - Sie können verschiedene Initialisierungstrategien testen (z.B. `tf.truncated_normal()`).\n",
    "> - Sie können die Anzahl der Hidden Layer verändern\n",
    "> - Sie können verschiedene Kostenfunktionen testen.\n",
    "> - Sie können die Batch Größe verändern.\n",
    "> - Sie können die Anzahl der Epochen verändern."
   ]
  },
  {
   "cell_type": "code",
   "execution_count": null,
   "metadata": {},
   "outputs": [],
   "source": []
  }
 ],
 "metadata": {
  "kernelspec": {
   "display_name": "Python 3",
   "language": "python",
   "name": "python3"
  },
  "language_info": {
   "codemirror_mode": {
    "name": "ipython",
    "version": 3
   },
   "file_extension": ".py",
   "mimetype": "text/x-python",
   "name": "python",
   "nbconvert_exporter": "python",
   "pygments_lexer": "ipython3",
   "version": "3.6.4"
  }
 },
 "nbformat": 4,
 "nbformat_minor": 2
}
